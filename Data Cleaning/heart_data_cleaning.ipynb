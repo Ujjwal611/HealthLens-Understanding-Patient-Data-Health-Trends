{
 "cells": [
  {
   "cell_type": "code",
   "execution_count": 37,
   "id": "301699d2",
   "metadata": {},
   "outputs": [],
   "source": [
    "# Importing the necessary libraries\n",
    "import pandas as pd"
   ]
  },
  {
   "cell_type": "code",
   "execution_count": 38,
   "id": "365b0efe",
   "metadata": {},
   "outputs": [
    {
     "data": {
      "text/html": [
       "<div>\n",
       "<style scoped>\n",
       "    .dataframe tbody tr th:only-of-type {\n",
       "        vertical-align: middle;\n",
       "    }\n",
       "\n",
       "    .dataframe tbody tr th {\n",
       "        vertical-align: top;\n",
       "    }\n",
       "\n",
       "    .dataframe thead th {\n",
       "        text-align: right;\n",
       "    }\n",
       "</style>\n",
       "<table border=\"1\" class=\"dataframe\">\n",
       "  <thead>\n",
       "    <tr style=\"text-align: right;\">\n",
       "      <th></th>\n",
       "      <th>age</th>\n",
       "      <th>sex</th>\n",
       "      <th>cp</th>\n",
       "      <th>trestbps</th>\n",
       "      <th>chol</th>\n",
       "      <th>fbs</th>\n",
       "      <th>restecg</th>\n",
       "      <th>thalach</th>\n",
       "      <th>exang</th>\n",
       "      <th>oldpeak</th>\n",
       "      <th>slope</th>\n",
       "      <th>ca</th>\n",
       "      <th>thal</th>\n",
       "      <th>condition</th>\n",
       "    </tr>\n",
       "  </thead>\n",
       "  <tbody>\n",
       "    <tr>\n",
       "      <th>0</th>\n",
       "      <td>69</td>\n",
       "      <td>1</td>\n",
       "      <td>0</td>\n",
       "      <td>160</td>\n",
       "      <td>234</td>\n",
       "      <td>1</td>\n",
       "      <td>2</td>\n",
       "      <td>131</td>\n",
       "      <td>0</td>\n",
       "      <td>0.1</td>\n",
       "      <td>1</td>\n",
       "      <td>1</td>\n",
       "      <td>0</td>\n",
       "      <td>0</td>\n",
       "    </tr>\n",
       "  </tbody>\n",
       "</table>\n",
       "</div>"
      ],
      "text/plain": [
       "   age  sex  cp  trestbps  chol  fbs  restecg  thalach  exang  oldpeak  slope  \\\n",
       "0   69    1   0       160   234    1        2      131      0      0.1      1   \n",
       "\n",
       "   ca  thal  condition  \n",
       "0   1     0          0  "
      ]
     },
     "metadata": {},
     "output_type": "display_data"
    },
    {
     "name": "stdout",
     "output_type": "stream",
     "text": [
      "Number of Columns: 14\n",
      "Number of Rows: 297\n"
     ]
    }
   ],
   "source": [
    "# Loading the Dataset\n",
    "data = pd.read_csv('heart_cleveland_upload.csv')\n",
    "display(data.head(1))\n",
    "print(f\"Number of Columns: {len(data.columns)}\\nNumber of Rows: {len(data)}\")"
   ]
  },
  {
   "cell_type": "code",
   "execution_count": 39,
   "id": "e02e821f",
   "metadata": {},
   "outputs": [
    {
     "data": {
      "text/plain": [
       "age            int64\n",
       "sex            int64\n",
       "cp             int64\n",
       "trestbps       int64\n",
       "chol           int64\n",
       "fbs            int64\n",
       "restecg        int64\n",
       "thalach        int64\n",
       "exang          int64\n",
       "oldpeak      float64\n",
       "slope          int64\n",
       "ca             int64\n",
       "thal           int64\n",
       "condition      int64\n",
       "dtype: object"
      ]
     },
     "metadata": {},
     "output_type": "display_data"
    }
   ],
   "source": [
    "# Checking the data Types of data\n",
    "display(data.dtypes)"
   ]
  },
  {
   "cell_type": "code",
   "execution_count": 40,
   "id": "8b35e42d",
   "metadata": {},
   "outputs": [
    {
     "data": {
      "text/plain": [
       "age          0\n",
       "sex          0\n",
       "cp           0\n",
       "trestbps     0\n",
       "chol         0\n",
       "fbs          0\n",
       "restecg      0\n",
       "thalach      0\n",
       "exang        0\n",
       "oldpeak      0\n",
       "slope        0\n",
       "ca           0\n",
       "thal         0\n",
       "condition    0\n",
       "dtype: int64"
      ]
     },
     "metadata": {},
     "output_type": "display_data"
    }
   ],
   "source": [
    "# Checking the missing values\n",
    "display(data.isnull().sum())"
   ]
  },
  {
   "cell_type": "code",
   "execution_count": 41,
   "id": "df72ae6b",
   "metadata": {},
   "outputs": [
    {
     "data": {
      "text/plain": [
       "False    297\n",
       "Name: count, dtype: int64"
      ]
     },
     "metadata": {},
     "output_type": "display_data"
    }
   ],
   "source": [
    "# Checking for duplicates\n",
    "display(data.duplicated().value_counts())"
   ]
  },
  {
   "cell_type": "code",
   "execution_count": 42,
   "id": "3667a51f",
   "metadata": {},
   "outputs": [
    {
     "data": {
      "text/html": [
       "<div>\n",
       "<style scoped>\n",
       "    .dataframe tbody tr th:only-of-type {\n",
       "        vertical-align: middle;\n",
       "    }\n",
       "\n",
       "    .dataframe tbody tr th {\n",
       "        vertical-align: top;\n",
       "    }\n",
       "\n",
       "    .dataframe thead th {\n",
       "        text-align: right;\n",
       "    }\n",
       "</style>\n",
       "<table border=\"1\" class=\"dataframe\">\n",
       "  <thead>\n",
       "    <tr style=\"text-align: right;\">\n",
       "      <th></th>\n",
       "      <th>age</th>\n",
       "      <th>sex</th>\n",
       "      <th>cp</th>\n",
       "      <th>trestbps</th>\n",
       "      <th>chol</th>\n",
       "      <th>fbs</th>\n",
       "      <th>restecg</th>\n",
       "      <th>thalach</th>\n",
       "      <th>exang</th>\n",
       "      <th>oldpeak</th>\n",
       "      <th>slope</th>\n",
       "      <th>ca</th>\n",
       "      <th>thal</th>\n",
       "      <th>condition</th>\n",
       "    </tr>\n",
       "  </thead>\n",
       "  <tbody>\n",
       "    <tr>\n",
       "      <th>0</th>\n",
       "      <td>69</td>\n",
       "      <td>1</td>\n",
       "      <td>0</td>\n",
       "      <td>160</td>\n",
       "      <td>234</td>\n",
       "      <td>1</td>\n",
       "      <td>2</td>\n",
       "      <td>131</td>\n",
       "      <td>0</td>\n",
       "      <td>0.1</td>\n",
       "      <td>1</td>\n",
       "      <td>1</td>\n",
       "      <td>0</td>\n",
       "      <td>0</td>\n",
       "    </tr>\n",
       "  </tbody>\n",
       "</table>\n",
       "</div>"
      ],
      "text/plain": [
       "   age  sex  cp  trestbps  chol  fbs  restecg  thalach  exang  oldpeak  slope  \\\n",
       "0   69    1   0       160   234    1        2      131      0      0.1      1   \n",
       "\n",
       "   ca  thal  condition  \n",
       "0   1     0          0  "
      ]
     },
     "metadata": {},
     "output_type": "display_data"
    }
   ],
   "source": [
    "display(data.head(1))"
   ]
  },
  {
   "cell_type": "code",
   "execution_count": 43,
   "id": "e6ef773c",
   "metadata": {},
   "outputs": [],
   "source": [
    "# Renaming the columns for appropriate words\n",
    "data.rename(columns={'age' : 'Age'}, inplace=True)\n",
    "data.rename(columns={'sex' : 'Sex'}, inplace=True) # sex: sex (1 = male; 0 = female)\n",
    "data.rename(columns={'cp' : 'Chest Pain Type'}, inplace=True)\n",
    "# Chest Pain Type\n",
    "# Value 0: typical angina\n",
    "# Value 1: atypical angina\n",
    "# Value 2: non-anginal pain\n",
    "# Value 3: asymptomatic\n",
    "data.rename(columns={'trestbps' : 'Resting Blood Pressure'}, inplace=True)\n",
    "data.rename(columns={'chol' : 'Serum Cholestoral'}, inplace=True)\n",
    "data.rename(columns={'fbs' : 'Fasting Blood Sugar > 120 mg/dl'}, inplace=True)\n",
    "data.rename(columns={'restecg' : 'Resting Electrocardiographic'}, inplace=True) \n",
    "# Resting Electrocardiographic\n",
    "# Value 0: normal\n",
    "# Value 1: having ST-T wave abnormality (T wave inversions and/or ST elevation or depression of > 0.05 mV)\n",
    "# Value 2: showing probable or definite left ventricular hypertrophy by Estes' criteria\n",
    "data.rename(columns={'thalach' : 'Maximum Heart Rate'}, inplace=True)\n",
    "data.rename(columns={'exang' : 'Exercise Induced Angina'}, inplace=True)\n",
    "data.rename(columns={'oldpeak' : 'ST Depression'}, inplace=True)\n",
    "data.rename(columns={'slope' : 'Slope of Peak Exercise ST Segment'}, inplace=True) # A treadmill ECG stress test\n",
    "# slope: the slope of the peak exercise ST segment\n",
    "# Value 0: upsloping\n",
    "# Value 1: flat\n",
    "# Value 2: downsloping\n",
    "data.rename(columns={'ca' : 'Number of Major Vessels'}, inplace=True)\n",
    "data.rename(columns={'thal' : 'Thalassemia'}, inplace=True) # thal: A blood disorder called thalassemia\n",
    "# thal: 0 = normal\n",
    "# 1 = fixed defect\n",
    "# 2 = reversable defect and the label\n",
    "data.rename(columns={'condition' : 'Disease Condition'}, inplace=True) # Condition: 0 = no disease, 1 = disease"
   ]
  },
  {
   "cell_type": "code",
   "execution_count": 44,
   "id": "a3e98b74",
   "metadata": {},
   "outputs": [],
   "source": [
    "# sex: sex (1 = male; 0 = female)\n",
    "data['Sex'] = data['Sex'].replace({0: 'Female', 1: 'Male'})"
   ]
  },
  {
   "cell_type": "code",
   "execution_count": 45,
   "id": "554188a7",
   "metadata": {},
   "outputs": [],
   "source": [
    "# Chest Pain Type\n",
    "# Value 0: typical angina\n",
    "# Value 1: atypical angina\n",
    "# Value 2: non-anginal pain\n",
    "# Value 3: asymptomatic\n",
    "data['Chest Pain Type'] = data['Chest Pain Type'].replace({0: 'Typical Angina', 1: 'Atypical Angina', 2: 'Non-anginal Pain', 3: 'Asymptomatic'})"
   ]
  },
  {
   "cell_type": "code",
   "execution_count": 46,
   "id": "f6e43163",
   "metadata": {},
   "outputs": [],
   "source": [
    "data['Fasting Blood Sugar > 120 mg/dl'] = data['Fasting Blood Sugar > 120 mg/dl'].replace({0:'False', 1:'True'})"
   ]
  },
  {
   "cell_type": "code",
   "execution_count": 47,
   "id": "8f788d34",
   "metadata": {},
   "outputs": [],
   "source": [
    "# Resting Electrocardiographic\n",
    "# Value 0: normal\n",
    "# Value 1: having ST-T wave abnormality (T wave inversions and/or ST elevation or depression of > 0.05 mV)\n",
    "# Value 2: showing probable or definite left ventricular hypertrophy by Estes' criteria\n",
    "data['Resting Electrocardiographic'].value_counts()\n",
    "data['Resting Electrocardiographic'] = data['Resting Electrocardiographic'].replace({0: 'Normal ECG', 1: 'ST-T Wave Abnormalities', 2: 'Left Ventricular Hypertrophy'})"
   ]
  },
  {
   "cell_type": "code",
   "execution_count": 48,
   "id": "81f68b1f",
   "metadata": {},
   "outputs": [],
   "source": [
    "# slope: the slope of the peak exercise ST segment\n",
    "# Value 0: upsloping\n",
    "# Value 1: flat\n",
    "# Value 2: downsloping\n",
    "data['Slope of Peak Exercise ST Segment'] = data['Slope of Peak Exercise ST Segment'].replace({0: 'Upsloping', 1: 'Flat', 2: 'Downsloping'})"
   ]
  },
  {
   "cell_type": "code",
   "execution_count": 49,
   "id": "0d609d1d",
   "metadata": {},
   "outputs": [],
   "source": [
    "# thal: 0 = normal\n",
    "# 1 = fixed defect\n",
    "# 2 = reversable defect and the label\n",
    "data['Thalassemia'] = data['Thalassemia'].replace({0: 'Normal', 1: 'Fixed Defect', 2: 'Reversable Defect'})"
   ]
  },
  {
   "cell_type": "code",
   "execution_count": 50,
   "id": "a37ed752",
   "metadata": {},
   "outputs": [],
   "source": [
    "data['Exercise Induced Angina'] = data['Exercise Induced Angina'].replace({0: 'No', 1: 'Yes'})"
   ]
  },
  {
   "cell_type": "code",
   "execution_count": 51,
   "id": "585e4dbe",
   "metadata": {},
   "outputs": [],
   "source": [
    "# Condition: 0 = no disease, 1 = disease\n",
    "data['Disease Condition'] = data['Disease Condition'].replace({0: 'No Disease', 1: 'Disease'})"
   ]
  },
  {
   "cell_type": "code",
   "execution_count": 52,
   "id": "8a6b551b",
   "metadata": {},
   "outputs": [],
   "source": [
    "# Exporting the data to csv format for further process\n",
    "data.to_csv('heart_cleaned_data.csv', index=False)"
   ]
  },
  {
   "cell_type": "code",
   "execution_count": 53,
   "id": "1edfd9bc",
   "metadata": {},
   "outputs": [
    {
     "data": {
      "text/plain": [
       "Age                                    int64\n",
       "Sex                                   object\n",
       "Chest Pain Type                       object\n",
       "Resting Blood Pressure                 int64\n",
       "Serum Cholestoral                      int64\n",
       "Fasting Blood Sugar > 120 mg/dl       object\n",
       "Resting Electrocardiographic          object\n",
       "Maximum Heart Rate                     int64\n",
       "Exercise Induced Angina               object\n",
       "ST Depression                        float64\n",
       "Slope of Peak Exercise ST Segment     object\n",
       "Number of Major Vessels                int64\n",
       "Thalassemia                           object\n",
       "Disease Condition                     object\n",
       "dtype: object"
      ]
     },
     "metadata": {},
     "output_type": "display_data"
    }
   ],
   "source": [
    "# Checking for data types after the cleaning process\n",
    "display(data.dtypes)"
   ]
  },
  {
   "cell_type": "markdown",
   "id": "3efe9b6d",
   "metadata": {},
   "source": [
    "Insights after the cleaning process\n",
    "\n",
    "\n",
    "1. There are 297 rows and 14 columns present in the data.\n",
    "\n",
    "2. There are no missing values and duplicates in the data.\n",
    "\n",
    "3. There are some columns with random names.\n",
    "\n",
    "4. Therefore renaming those columns with some appropriate words.\n",
    "\n",
    "5. There are some columns with categorical variables.\n",
    "\n",
    "6. Convert categorical variables to interpretable form."
   ]
  }
 ],
 "metadata": {
  "kernelspec": {
   "display_name": "Python 3",
   "language": "python",
   "name": "python3"
  },
  "language_info": {
   "codemirror_mode": {
    "name": "ipython",
    "version": 3
   },
   "file_extension": ".py",
   "mimetype": "text/x-python",
   "name": "python",
   "nbconvert_exporter": "python",
   "pygments_lexer": "ipython3",
   "version": "3.13.5"
  }
 },
 "nbformat": 4,
 "nbformat_minor": 5
}
